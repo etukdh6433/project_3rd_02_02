{
 "cells": [
  {
   "cell_type": "markdown",
   "id": "eb4cd57a",
   "metadata": {
    "papermill": {
     "duration": 0.007055,
     "end_time": "2024-05-10T11:17:37.626252",
     "exception": false,
     "start_time": "2024-05-10T11:17:37.619197",
     "status": "completed"
    },
    "tags": []
   },
   "source": [
    "## **FOREWORD**"
   ]
  },
  {
   "cell_type": "markdown",
   "id": "de42f354",
   "metadata": {
    "papermill": {
     "duration": 0.006119,
     "end_time": "2024-05-10T11:17:37.638877",
     "exception": false,
     "start_time": "2024-05-10T11:17:37.632758",
     "status": "completed"
    },
    "tags": []
   },
   "source": [
    "*   총 **1117957개**의 레코드로 구성되며 **22개**의 피쳐와 레이블 필드(홍수확률)로 구성\n",
    "*   필드(**FloodProbability**)가 바로 예측해야 하는 홍수 확률을 나타냄\n",
    "\n",
    "\n",
    "01. **id:** 승객에게 주어진 일련번호\n",
    "02. **MonsoonIntensity:** Monsoon(계절적 변화) 강도에 따른 영향\n",
    "03. **TopographyDrainage:** 지형과 배수 시스템에 따른 영향\n",
    "04. **RiverManagement:** 강 관리 정책의 영향\n",
    "05. **Deforestation:** 산림 파괴로 인한 영향\n",
    "06. **Urbanization:** 도시화로 인한 영향\n",
    "07. **ClimateChange:** 기후 변화로 인한 영향\n",
    "08. **DamsQuality:** 댐 품질의 영향\n",
    "09. **Siltation:** 슬럼 형성으로 인한 영향\n",
    "10. **AgriculturalPractices:** 농업 관행의 영향\n",
    "11. **Encroachments:** 침수지 침입으로 인한 영향\n",
    "12. **IneffectiveDisasterPreparedness:** 비효율적인 재난 대비 조치로 인한 영향\n",
    "13. **DrainageSystems:** 배수 시스템의 영향\n",
    "14. **CoastalVulnerability:** 해안 취약성의 영향\n",
    "15. **Landslides:** 산사태로 인한 영향\n",
    "16. **Watersheds:** 수원지의 영향\n",
    "17. **DeterioratingInfrastructure:** 인프라의 악화로 인한 영향\n",
    "18. **PopulationScore:** 인구 수에 따른 점수\n",
    "19. **WetlandLoss:** 습지 상실로 인한 영향\n",
    "20. **InadequatePlanning:** 불충분한 계획으로 인한 영향\n",
    "21. **PoliticalFactors:** 정치적 요인의 영향\n",
    "22. **FloodProbability:** 홍수 발생 가능성"
   ]
  },
  {
   "cell_type": "markdown",
   "id": "224be9b6",
   "metadata": {
    "papermill": {
     "duration": 0.006091,
     "end_time": "2024-05-10T11:17:37.651231",
     "exception": false,
     "start_time": "2024-05-10T11:17:37.645140",
     "status": "completed"
    },
    "tags": []
   },
   "source": [
    "## **IMPORTS**"
   ]
  },
  {
   "cell_type": "code",
   "execution_count": 1,
   "id": "94657ea3",
   "metadata": {
    "execution": {
     "iopub.execute_input": "2024-05-10T11:17:37.666199Z",
     "iopub.status.busy": "2024-05-10T11:17:37.665507Z",
     "iopub.status.idle": "2024-05-10T11:17:40.822449Z",
     "shell.execute_reply": "2024-05-10T11:17:40.821390Z"
    },
    "papermill": {
     "duration": 3.167556,
     "end_time": "2024-05-10T11:17:40.825032",
     "exception": false,
     "start_time": "2024-05-10T11:17:37.657476",
     "status": "completed"
    },
    "tags": []
   },
   "outputs": [],
   "source": [
    "import os\n",
    "import numpy as np\n",
    "import pandas as pd\n",
    "import matplotlib.pyplot as plt\n",
    "from matplotlib.ticker import MaxNLocator\n",
    "import seaborn as sns\n",
    "\n",
    "from sklearn.model_selection import train_test_split, GridSearchCV\n",
    "from sklearn.pipeline import Pipeline\n",
    "\n",
    "from sklearn.preprocessing import StandardScaler\n",
    "\n",
    "from xgboost import XGBRegressor\n",
    "from lightgbm import LGBMRegressor\n",
    "from catboost import CatBoostRegressor\n",
    "\n",
    "from sklearn.metrics import r2_score"
   ]
  },
  {
   "cell_type": "markdown",
   "id": "d7aa4384",
   "metadata": {
    "papermill": {
     "duration": 0.006224,
     "end_time": "2024-05-10T11:17:40.837883",
     "exception": false,
     "start_time": "2024-05-10T11:17:40.831659",
     "status": "completed"
    },
    "tags": []
   },
   "source": [
    "## **SUMMARY STATICS**"
   ]
  },
  {
   "cell_type": "code",
   "execution_count": 2,
   "id": "c0926513",
   "metadata": {
    "execution": {
     "iopub.execute_input": "2024-05-10T11:17:40.852606Z",
     "iopub.status.busy": "2024-05-10T11:17:40.851712Z",
     "iopub.status.idle": "2024-05-10T11:17:40.859644Z",
     "shell.execute_reply": "2024-05-10T11:17:40.858552Z"
    },
    "papermill": {
     "duration": 0.017608,
     "end_time": "2024-05-10T11:17:40.861771",
     "exception": false,
     "start_time": "2024-05-10T11:17:40.844163",
     "status": "completed"
    },
    "tags": []
   },
   "outputs": [
    {
     "data": {
      "text/plain": [
       "['sample_submission.csv', 'train.csv', 'test.csv']"
      ]
     },
     "execution_count": 2,
     "metadata": {},
     "output_type": "execute_result"
    }
   ],
   "source": [
    "# 데이터 확인\n",
    "os.listdir(\"../input/playground-series-s4e5\")"
   ]
  },
  {
   "cell_type": "code",
   "execution_count": 3,
   "id": "0e4d097c",
   "metadata": {
    "execution": {
     "iopub.execute_input": "2024-05-10T11:17:40.877301Z",
     "iopub.status.busy": "2024-05-10T11:17:40.876991Z",
     "iopub.status.idle": "2024-05-10T11:17:44.151938Z",
     "shell.execute_reply": "2024-05-10T11:17:44.151080Z"
    },
    "papermill": {
     "duration": 3.286068,
     "end_time": "2024-05-10T11:17:44.154346",
     "exception": false,
     "start_time": "2024-05-10T11:17:40.868278",
     "status": "completed"
    },
    "tags": []
   },
   "outputs": [],
   "source": [
    "# 데이터 불러오기\n",
    "train = pd.read_csv(\"../input/playground-series-s4e5/train.csv\", index_col='id')\n",
    "test = pd.read_csv(\"../input/playground-series-s4e5/test.csv\", index_col='id')\n",
    "sample = pd.read_csv(\"../input/playground-series-s4e5/sample_submission.csv\", index_col='id')"
   ]
  },
  {
   "cell_type": "code",
   "execution_count": 4,
   "id": "e03fcdc5",
   "metadata": {
    "execution": {
     "iopub.execute_input": "2024-05-10T11:17:44.170748Z",
     "iopub.status.busy": "2024-05-10T11:17:44.170392Z",
     "iopub.status.idle": "2024-05-10T11:17:44.175856Z",
     "shell.execute_reply": "2024-05-10T11:17:44.174913Z"
    },
    "papermill": {
     "duration": 0.01539,
     "end_time": "2024-05-10T11:17:44.177932",
     "exception": false,
     "start_time": "2024-05-10T11:17:44.162542",
     "status": "completed"
    },
    "tags": []
   },
   "outputs": [
    {
     "data": {
      "text/plain": [
       "(1117957, 21)"
      ]
     },
     "execution_count": 4,
     "metadata": {},
     "output_type": "execute_result"
    }
   ],
   "source": [
    "# train data 확인\n",
    "train.shape"
   ]
  },
  {
   "cell_type": "code",
   "execution_count": 5,
   "id": "1a708d44",
   "metadata": {
    "execution": {
     "iopub.execute_input": "2024-05-10T11:17:44.192297Z",
     "iopub.status.busy": "2024-05-10T11:17:44.192014Z",
     "iopub.status.idle": "2024-05-10T11:17:44.214058Z",
     "shell.execute_reply": "2024-05-10T11:17:44.213213Z"
    },
    "papermill": {
     "duration": 0.031511,
     "end_time": "2024-05-10T11:17:44.216004",
     "exception": false,
     "start_time": "2024-05-10T11:17:44.184493",
     "status": "completed"
    },
    "tags": []
   },
   "outputs": [
    {
     "data": {
      "text/html": [
       "<div>\n",
       "<style scoped>\n",
       "    .dataframe tbody tr th:only-of-type {\n",
       "        vertical-align: middle;\n",
       "    }\n",
       "\n",
       "    .dataframe tbody tr th {\n",
       "        vertical-align: top;\n",
       "    }\n",
       "\n",
       "    .dataframe thead th {\n",
       "        text-align: right;\n",
       "    }\n",
       "</style>\n",
       "<table border=\"1\" class=\"dataframe\">\n",
       "  <thead>\n",
       "    <tr style=\"text-align: right;\">\n",
       "      <th></th>\n",
       "      <th>MonsoonIntensity</th>\n",
       "      <th>TopographyDrainage</th>\n",
       "      <th>RiverManagement</th>\n",
       "      <th>Deforestation</th>\n",
       "      <th>Urbanization</th>\n",
       "      <th>ClimateChange</th>\n",
       "      <th>DamsQuality</th>\n",
       "      <th>Siltation</th>\n",
       "      <th>AgriculturalPractices</th>\n",
       "      <th>Encroachments</th>\n",
       "      <th>...</th>\n",
       "      <th>DrainageSystems</th>\n",
       "      <th>CoastalVulnerability</th>\n",
       "      <th>Landslides</th>\n",
       "      <th>Watersheds</th>\n",
       "      <th>DeterioratingInfrastructure</th>\n",
       "      <th>PopulationScore</th>\n",
       "      <th>WetlandLoss</th>\n",
       "      <th>InadequatePlanning</th>\n",
       "      <th>PoliticalFactors</th>\n",
       "      <th>FloodProbability</th>\n",
       "    </tr>\n",
       "    <tr>\n",
       "      <th>id</th>\n",
       "      <th></th>\n",
       "      <th></th>\n",
       "      <th></th>\n",
       "      <th></th>\n",
       "      <th></th>\n",
       "      <th></th>\n",
       "      <th></th>\n",
       "      <th></th>\n",
       "      <th></th>\n",
       "      <th></th>\n",
       "      <th></th>\n",
       "      <th></th>\n",
       "      <th></th>\n",
       "      <th></th>\n",
       "      <th></th>\n",
       "      <th></th>\n",
       "      <th></th>\n",
       "      <th></th>\n",
       "      <th></th>\n",
       "      <th></th>\n",
       "      <th></th>\n",
       "    </tr>\n",
       "  </thead>\n",
       "  <tbody>\n",
       "    <tr>\n",
       "      <th>0</th>\n",
       "      <td>5</td>\n",
       "      <td>8</td>\n",
       "      <td>5</td>\n",
       "      <td>8</td>\n",
       "      <td>6</td>\n",
       "      <td>4</td>\n",
       "      <td>4</td>\n",
       "      <td>3</td>\n",
       "      <td>3</td>\n",
       "      <td>4</td>\n",
       "      <td>...</td>\n",
       "      <td>5</td>\n",
       "      <td>3</td>\n",
       "      <td>3</td>\n",
       "      <td>5</td>\n",
       "      <td>4</td>\n",
       "      <td>7</td>\n",
       "      <td>5</td>\n",
       "      <td>7</td>\n",
       "      <td>3</td>\n",
       "      <td>0.445</td>\n",
       "    </tr>\n",
       "    <tr>\n",
       "      <th>1</th>\n",
       "      <td>6</td>\n",
       "      <td>7</td>\n",
       "      <td>4</td>\n",
       "      <td>4</td>\n",
       "      <td>8</td>\n",
       "      <td>8</td>\n",
       "      <td>3</td>\n",
       "      <td>5</td>\n",
       "      <td>4</td>\n",
       "      <td>6</td>\n",
       "      <td>...</td>\n",
       "      <td>7</td>\n",
       "      <td>2</td>\n",
       "      <td>0</td>\n",
       "      <td>3</td>\n",
       "      <td>5</td>\n",
       "      <td>3</td>\n",
       "      <td>3</td>\n",
       "      <td>4</td>\n",
       "      <td>3</td>\n",
       "      <td>0.450</td>\n",
       "    </tr>\n",
       "    <tr>\n",
       "      <th>2</th>\n",
       "      <td>6</td>\n",
       "      <td>5</td>\n",
       "      <td>6</td>\n",
       "      <td>7</td>\n",
       "      <td>3</td>\n",
       "      <td>7</td>\n",
       "      <td>1</td>\n",
       "      <td>5</td>\n",
       "      <td>4</td>\n",
       "      <td>5</td>\n",
       "      <td>...</td>\n",
       "      <td>7</td>\n",
       "      <td>3</td>\n",
       "      <td>7</td>\n",
       "      <td>5</td>\n",
       "      <td>6</td>\n",
       "      <td>8</td>\n",
       "      <td>2</td>\n",
       "      <td>3</td>\n",
       "      <td>3</td>\n",
       "      <td>0.530</td>\n",
       "    </tr>\n",
       "    <tr>\n",
       "      <th>3</th>\n",
       "      <td>3</td>\n",
       "      <td>4</td>\n",
       "      <td>6</td>\n",
       "      <td>5</td>\n",
       "      <td>4</td>\n",
       "      <td>8</td>\n",
       "      <td>4</td>\n",
       "      <td>7</td>\n",
       "      <td>6</td>\n",
       "      <td>8</td>\n",
       "      <td>...</td>\n",
       "      <td>2</td>\n",
       "      <td>4</td>\n",
       "      <td>7</td>\n",
       "      <td>4</td>\n",
       "      <td>4</td>\n",
       "      <td>6</td>\n",
       "      <td>5</td>\n",
       "      <td>7</td>\n",
       "      <td>5</td>\n",
       "      <td>0.535</td>\n",
       "    </tr>\n",
       "    <tr>\n",
       "      <th>4</th>\n",
       "      <td>5</td>\n",
       "      <td>3</td>\n",
       "      <td>2</td>\n",
       "      <td>6</td>\n",
       "      <td>4</td>\n",
       "      <td>4</td>\n",
       "      <td>3</td>\n",
       "      <td>3</td>\n",
       "      <td>3</td>\n",
       "      <td>3</td>\n",
       "      <td>...</td>\n",
       "      <td>2</td>\n",
       "      <td>2</td>\n",
       "      <td>6</td>\n",
       "      <td>6</td>\n",
       "      <td>4</td>\n",
       "      <td>1</td>\n",
       "      <td>2</td>\n",
       "      <td>3</td>\n",
       "      <td>5</td>\n",
       "      <td>0.415</td>\n",
       "    </tr>\n",
       "  </tbody>\n",
       "</table>\n",
       "<p>5 rows × 21 columns</p>\n",
       "</div>"
      ],
      "text/plain": [
       "    MonsoonIntensity  TopographyDrainage  RiverManagement  Deforestation  \\\n",
       "id                                                                         \n",
       "0                  5                   8                5              8   \n",
       "1                  6                   7                4              4   \n",
       "2                  6                   5                6              7   \n",
       "3                  3                   4                6              5   \n",
       "4                  5                   3                2              6   \n",
       "\n",
       "    Urbanization  ClimateChange  DamsQuality  Siltation  \\\n",
       "id                                                        \n",
       "0              6              4            4          3   \n",
       "1              8              8            3          5   \n",
       "2              3              7            1          5   \n",
       "3              4              8            4          7   \n",
       "4              4              4            3          3   \n",
       "\n",
       "    AgriculturalPractices  Encroachments  ...  DrainageSystems  \\\n",
       "id                                        ...                    \n",
       "0                       3              4  ...                5   \n",
       "1                       4              6  ...                7   \n",
       "2                       4              5  ...                7   \n",
       "3                       6              8  ...                2   \n",
       "4                       3              3  ...                2   \n",
       "\n",
       "    CoastalVulnerability  Landslides  Watersheds  DeterioratingInfrastructure  \\\n",
       "id                                                                              \n",
       "0                      3           3           5                            4   \n",
       "1                      2           0           3                            5   \n",
       "2                      3           7           5                            6   \n",
       "3                      4           7           4                            4   \n",
       "4                      2           6           6                            4   \n",
       "\n",
       "    PopulationScore  WetlandLoss  InadequatePlanning  PoliticalFactors  \\\n",
       "id                                                                       \n",
       "0                 7            5                   7                 3   \n",
       "1                 3            3                   4                 3   \n",
       "2                 8            2                   3                 3   \n",
       "3                 6            5                   7                 5   \n",
       "4                 1            2                   3                 5   \n",
       "\n",
       "    FloodProbability  \n",
       "id                    \n",
       "0              0.445  \n",
       "1              0.450  \n",
       "2              0.530  \n",
       "3              0.535  \n",
       "4              0.415  \n",
       "\n",
       "[5 rows x 21 columns]"
      ]
     },
     "execution_count": 5,
     "metadata": {},
     "output_type": "execute_result"
    }
   ],
   "source": [
    "train.head()"
   ]
  },
  {
   "cell_type": "code",
   "execution_count": 6,
   "id": "d830ae0f",
   "metadata": {
    "execution": {
     "iopub.execute_input": "2024-05-10T11:17:44.231225Z",
     "iopub.status.busy": "2024-05-10T11:17:44.230947Z",
     "iopub.status.idle": "2024-05-10T11:17:44.271687Z",
     "shell.execute_reply": "2024-05-10T11:17:44.270663Z"
    },
    "papermill": {
     "duration": 0.050807,
     "end_time": "2024-05-10T11:17:44.273852",
     "exception": false,
     "start_time": "2024-05-10T11:17:44.223045",
     "status": "completed"
    },
    "tags": []
   },
   "outputs": [
    {
     "name": "stdout",
     "output_type": "stream",
     "text": [
      "<class 'pandas.core.frame.DataFrame'>\n",
      "Index: 1117957 entries, 0 to 1117956\n",
      "Data columns (total 21 columns):\n",
      " #   Column                           Non-Null Count    Dtype  \n",
      "---  ------                           --------------    -----  \n",
      " 0   MonsoonIntensity                 1117957 non-null  int64  \n",
      " 1   TopographyDrainage               1117957 non-null  int64  \n",
      " 2   RiverManagement                  1117957 non-null  int64  \n",
      " 3   Deforestation                    1117957 non-null  int64  \n",
      " 4   Urbanization                     1117957 non-null  int64  \n",
      " 5   ClimateChange                    1117957 non-null  int64  \n",
      " 6   DamsQuality                      1117957 non-null  int64  \n",
      " 7   Siltation                        1117957 non-null  int64  \n",
      " 8   AgriculturalPractices            1117957 non-null  int64  \n",
      " 9   Encroachments                    1117957 non-null  int64  \n",
      " 10  IneffectiveDisasterPreparedness  1117957 non-null  int64  \n",
      " 11  DrainageSystems                  1117957 non-null  int64  \n",
      " 12  CoastalVulnerability             1117957 non-null  int64  \n",
      " 13  Landslides                       1117957 non-null  int64  \n",
      " 14  Watersheds                       1117957 non-null  int64  \n",
      " 15  DeterioratingInfrastructure      1117957 non-null  int64  \n",
      " 16  PopulationScore                  1117957 non-null  int64  \n",
      " 17  WetlandLoss                      1117957 non-null  int64  \n",
      " 18  InadequatePlanning               1117957 non-null  int64  \n",
      " 19  PoliticalFactors                 1117957 non-null  int64  \n",
      " 20  FloodProbability                 1117957 non-null  float64\n",
      "dtypes: float64(1), int64(20)\n",
      "memory usage: 187.6 MB\n"
     ]
    }
   ],
   "source": [
    "train.info()"
   ]
  },
  {
   "cell_type": "code",
   "execution_count": 7,
   "id": "2a7548e4",
   "metadata": {
    "execution": {
     "iopub.execute_input": "2024-05-10T11:17:44.289965Z",
     "iopub.status.busy": "2024-05-10T11:17:44.289676Z",
     "iopub.status.idle": "2024-05-10T11:17:45.074203Z",
     "shell.execute_reply": "2024-05-10T11:17:45.073271Z"
    },
    "papermill": {
     "duration": 0.795078,
     "end_time": "2024-05-10T11:17:45.076421",
     "exception": false,
     "start_time": "2024-05-10T11:17:44.281343",
     "status": "completed"
    },
    "tags": []
   },
   "outputs": [
    {
     "data": {
      "text/html": [
       "<div>\n",
       "<style scoped>\n",
       "    .dataframe tbody tr th:only-of-type {\n",
       "        vertical-align: middle;\n",
       "    }\n",
       "\n",
       "    .dataframe tbody tr th {\n",
       "        vertical-align: top;\n",
       "    }\n",
       "\n",
       "    .dataframe thead th {\n",
       "        text-align: right;\n",
       "    }\n",
       "</style>\n",
       "<table border=\"1\" class=\"dataframe\">\n",
       "  <thead>\n",
       "    <tr style=\"text-align: right;\">\n",
       "      <th></th>\n",
       "      <th>MonsoonIntensity</th>\n",
       "      <th>TopographyDrainage</th>\n",
       "      <th>RiverManagement</th>\n",
       "      <th>Deforestation</th>\n",
       "      <th>Urbanization</th>\n",
       "      <th>ClimateChange</th>\n",
       "      <th>DamsQuality</th>\n",
       "      <th>Siltation</th>\n",
       "      <th>AgriculturalPractices</th>\n",
       "      <th>Encroachments</th>\n",
       "      <th>...</th>\n",
       "      <th>DrainageSystems</th>\n",
       "      <th>CoastalVulnerability</th>\n",
       "      <th>Landslides</th>\n",
       "      <th>Watersheds</th>\n",
       "      <th>DeterioratingInfrastructure</th>\n",
       "      <th>PopulationScore</th>\n",
       "      <th>WetlandLoss</th>\n",
       "      <th>InadequatePlanning</th>\n",
       "      <th>PoliticalFactors</th>\n",
       "      <th>FloodProbability</th>\n",
       "    </tr>\n",
       "  </thead>\n",
       "  <tbody>\n",
       "    <tr>\n",
       "      <th>count</th>\n",
       "      <td>1.117957e+06</td>\n",
       "      <td>1.117957e+06</td>\n",
       "      <td>1.117957e+06</td>\n",
       "      <td>1.117957e+06</td>\n",
       "      <td>1.117957e+06</td>\n",
       "      <td>1.117957e+06</td>\n",
       "      <td>1.117957e+06</td>\n",
       "      <td>1.117957e+06</td>\n",
       "      <td>1.117957e+06</td>\n",
       "      <td>1.117957e+06</td>\n",
       "      <td>...</td>\n",
       "      <td>1.117957e+06</td>\n",
       "      <td>1.117957e+06</td>\n",
       "      <td>1.117957e+06</td>\n",
       "      <td>1.117957e+06</td>\n",
       "      <td>1.117957e+06</td>\n",
       "      <td>1.117957e+06</td>\n",
       "      <td>1.117957e+06</td>\n",
       "      <td>1.117957e+06</td>\n",
       "      <td>1.117957e+06</td>\n",
       "      <td>1.117957e+06</td>\n",
       "    </tr>\n",
       "    <tr>\n",
       "      <th>mean</th>\n",
       "      <td>4.921450e+00</td>\n",
       "      <td>4.926671e+00</td>\n",
       "      <td>4.955322e+00</td>\n",
       "      <td>4.942240e+00</td>\n",
       "      <td>4.942517e+00</td>\n",
       "      <td>4.934093e+00</td>\n",
       "      <td>4.955878e+00</td>\n",
       "      <td>4.927791e+00</td>\n",
       "      <td>4.942619e+00</td>\n",
       "      <td>4.949230e+00</td>\n",
       "      <td>...</td>\n",
       "      <td>4.946893e+00</td>\n",
       "      <td>4.953999e+00</td>\n",
       "      <td>4.931376e+00</td>\n",
       "      <td>4.929032e+00</td>\n",
       "      <td>4.925907e+00</td>\n",
       "      <td>4.927520e+00</td>\n",
       "      <td>4.950859e+00</td>\n",
       "      <td>4.940587e+00</td>\n",
       "      <td>4.939004e+00</td>\n",
       "      <td>5.044803e-01</td>\n",
       "    </tr>\n",
       "    <tr>\n",
       "      <th>std</th>\n",
       "      <td>2.056387e+00</td>\n",
       "      <td>2.093879e+00</td>\n",
       "      <td>2.072186e+00</td>\n",
       "      <td>2.051689e+00</td>\n",
       "      <td>2.083391e+00</td>\n",
       "      <td>2.057742e+00</td>\n",
       "      <td>2.083063e+00</td>\n",
       "      <td>2.065992e+00</td>\n",
       "      <td>2.068545e+00</td>\n",
       "      <td>2.083324e+00</td>\n",
       "      <td>...</td>\n",
       "      <td>2.072333e+00</td>\n",
       "      <td>2.088899e+00</td>\n",
       "      <td>2.078287e+00</td>\n",
       "      <td>2.082395e+00</td>\n",
       "      <td>2.064813e+00</td>\n",
       "      <td>2.074176e+00</td>\n",
       "      <td>2.068696e+00</td>\n",
       "      <td>2.081123e+00</td>\n",
       "      <td>2.090350e+00</td>\n",
       "      <td>5.102610e-02</td>\n",
       "    </tr>\n",
       "    <tr>\n",
       "      <th>min</th>\n",
       "      <td>0.000000e+00</td>\n",
       "      <td>0.000000e+00</td>\n",
       "      <td>0.000000e+00</td>\n",
       "      <td>0.000000e+00</td>\n",
       "      <td>0.000000e+00</td>\n",
       "      <td>0.000000e+00</td>\n",
       "      <td>0.000000e+00</td>\n",
       "      <td>0.000000e+00</td>\n",
       "      <td>0.000000e+00</td>\n",
       "      <td>0.000000e+00</td>\n",
       "      <td>...</td>\n",
       "      <td>0.000000e+00</td>\n",
       "      <td>0.000000e+00</td>\n",
       "      <td>0.000000e+00</td>\n",
       "      <td>0.000000e+00</td>\n",
       "      <td>0.000000e+00</td>\n",
       "      <td>0.000000e+00</td>\n",
       "      <td>0.000000e+00</td>\n",
       "      <td>0.000000e+00</td>\n",
       "      <td>0.000000e+00</td>\n",
       "      <td>2.850000e-01</td>\n",
       "    </tr>\n",
       "    <tr>\n",
       "      <th>25%</th>\n",
       "      <td>3.000000e+00</td>\n",
       "      <td>3.000000e+00</td>\n",
       "      <td>4.000000e+00</td>\n",
       "      <td>4.000000e+00</td>\n",
       "      <td>3.000000e+00</td>\n",
       "      <td>3.000000e+00</td>\n",
       "      <td>4.000000e+00</td>\n",
       "      <td>3.000000e+00</td>\n",
       "      <td>3.000000e+00</td>\n",
       "      <td>4.000000e+00</td>\n",
       "      <td>...</td>\n",
       "      <td>4.000000e+00</td>\n",
       "      <td>3.000000e+00</td>\n",
       "      <td>3.000000e+00</td>\n",
       "      <td>3.000000e+00</td>\n",
       "      <td>3.000000e+00</td>\n",
       "      <td>3.000000e+00</td>\n",
       "      <td>4.000000e+00</td>\n",
       "      <td>3.000000e+00</td>\n",
       "      <td>3.000000e+00</td>\n",
       "      <td>4.700000e-01</td>\n",
       "    </tr>\n",
       "    <tr>\n",
       "      <th>50%</th>\n",
       "      <td>5.000000e+00</td>\n",
       "      <td>5.000000e+00</td>\n",
       "      <td>5.000000e+00</td>\n",
       "      <td>5.000000e+00</td>\n",
       "      <td>5.000000e+00</td>\n",
       "      <td>5.000000e+00</td>\n",
       "      <td>5.000000e+00</td>\n",
       "      <td>5.000000e+00</td>\n",
       "      <td>5.000000e+00</td>\n",
       "      <td>5.000000e+00</td>\n",
       "      <td>...</td>\n",
       "      <td>5.000000e+00</td>\n",
       "      <td>5.000000e+00</td>\n",
       "      <td>5.000000e+00</td>\n",
       "      <td>5.000000e+00</td>\n",
       "      <td>5.000000e+00</td>\n",
       "      <td>5.000000e+00</td>\n",
       "      <td>5.000000e+00</td>\n",
       "      <td>5.000000e+00</td>\n",
       "      <td>5.000000e+00</td>\n",
       "      <td>5.050000e-01</td>\n",
       "    </tr>\n",
       "    <tr>\n",
       "      <th>75%</th>\n",
       "      <td>6.000000e+00</td>\n",
       "      <td>6.000000e+00</td>\n",
       "      <td>6.000000e+00</td>\n",
       "      <td>6.000000e+00</td>\n",
       "      <td>6.000000e+00</td>\n",
       "      <td>6.000000e+00</td>\n",
       "      <td>6.000000e+00</td>\n",
       "      <td>6.000000e+00</td>\n",
       "      <td>6.000000e+00</td>\n",
       "      <td>6.000000e+00</td>\n",
       "      <td>...</td>\n",
       "      <td>6.000000e+00</td>\n",
       "      <td>6.000000e+00</td>\n",
       "      <td>6.000000e+00</td>\n",
       "      <td>6.000000e+00</td>\n",
       "      <td>6.000000e+00</td>\n",
       "      <td>6.000000e+00</td>\n",
       "      <td>6.000000e+00</td>\n",
       "      <td>6.000000e+00</td>\n",
       "      <td>6.000000e+00</td>\n",
       "      <td>5.400000e-01</td>\n",
       "    </tr>\n",
       "    <tr>\n",
       "      <th>max</th>\n",
       "      <td>1.600000e+01</td>\n",
       "      <td>1.800000e+01</td>\n",
       "      <td>1.600000e+01</td>\n",
       "      <td>1.700000e+01</td>\n",
       "      <td>1.700000e+01</td>\n",
       "      <td>1.700000e+01</td>\n",
       "      <td>1.600000e+01</td>\n",
       "      <td>1.600000e+01</td>\n",
       "      <td>1.600000e+01</td>\n",
       "      <td>1.800000e+01</td>\n",
       "      <td>...</td>\n",
       "      <td>1.700000e+01</td>\n",
       "      <td>1.700000e+01</td>\n",
       "      <td>1.600000e+01</td>\n",
       "      <td>1.600000e+01</td>\n",
       "      <td>1.700000e+01</td>\n",
       "      <td>1.800000e+01</td>\n",
       "      <td>1.900000e+01</td>\n",
       "      <td>1.600000e+01</td>\n",
       "      <td>1.600000e+01</td>\n",
       "      <td>7.250000e-01</td>\n",
       "    </tr>\n",
       "  </tbody>\n",
       "</table>\n",
       "<p>8 rows × 21 columns</p>\n",
       "</div>"
      ],
      "text/plain": [
       "       MonsoonIntensity  TopographyDrainage  RiverManagement  Deforestation  \\\n",
       "count      1.117957e+06        1.117957e+06     1.117957e+06   1.117957e+06   \n",
       "mean       4.921450e+00        4.926671e+00     4.955322e+00   4.942240e+00   \n",
       "std        2.056387e+00        2.093879e+00     2.072186e+00   2.051689e+00   \n",
       "min        0.000000e+00        0.000000e+00     0.000000e+00   0.000000e+00   \n",
       "25%        3.000000e+00        3.000000e+00     4.000000e+00   4.000000e+00   \n",
       "50%        5.000000e+00        5.000000e+00     5.000000e+00   5.000000e+00   \n",
       "75%        6.000000e+00        6.000000e+00     6.000000e+00   6.000000e+00   \n",
       "max        1.600000e+01        1.800000e+01     1.600000e+01   1.700000e+01   \n",
       "\n",
       "       Urbanization  ClimateChange   DamsQuality     Siltation  \\\n",
       "count  1.117957e+06   1.117957e+06  1.117957e+06  1.117957e+06   \n",
       "mean   4.942517e+00   4.934093e+00  4.955878e+00  4.927791e+00   \n",
       "std    2.083391e+00   2.057742e+00  2.083063e+00  2.065992e+00   \n",
       "min    0.000000e+00   0.000000e+00  0.000000e+00  0.000000e+00   \n",
       "25%    3.000000e+00   3.000000e+00  4.000000e+00  3.000000e+00   \n",
       "50%    5.000000e+00   5.000000e+00  5.000000e+00  5.000000e+00   \n",
       "75%    6.000000e+00   6.000000e+00  6.000000e+00  6.000000e+00   \n",
       "max    1.700000e+01   1.700000e+01  1.600000e+01  1.600000e+01   \n",
       "\n",
       "       AgriculturalPractices  Encroachments  ...  DrainageSystems  \\\n",
       "count           1.117957e+06   1.117957e+06  ...     1.117957e+06   \n",
       "mean            4.942619e+00   4.949230e+00  ...     4.946893e+00   \n",
       "std             2.068545e+00   2.083324e+00  ...     2.072333e+00   \n",
       "min             0.000000e+00   0.000000e+00  ...     0.000000e+00   \n",
       "25%             3.000000e+00   4.000000e+00  ...     4.000000e+00   \n",
       "50%             5.000000e+00   5.000000e+00  ...     5.000000e+00   \n",
       "75%             6.000000e+00   6.000000e+00  ...     6.000000e+00   \n",
       "max             1.600000e+01   1.800000e+01  ...     1.700000e+01   \n",
       "\n",
       "       CoastalVulnerability    Landslides    Watersheds  \\\n",
       "count          1.117957e+06  1.117957e+06  1.117957e+06   \n",
       "mean           4.953999e+00  4.931376e+00  4.929032e+00   \n",
       "std            2.088899e+00  2.078287e+00  2.082395e+00   \n",
       "min            0.000000e+00  0.000000e+00  0.000000e+00   \n",
       "25%            3.000000e+00  3.000000e+00  3.000000e+00   \n",
       "50%            5.000000e+00  5.000000e+00  5.000000e+00   \n",
       "75%            6.000000e+00  6.000000e+00  6.000000e+00   \n",
       "max            1.700000e+01  1.600000e+01  1.600000e+01   \n",
       "\n",
       "       DeterioratingInfrastructure  PopulationScore   WetlandLoss  \\\n",
       "count                 1.117957e+06     1.117957e+06  1.117957e+06   \n",
       "mean                  4.925907e+00     4.927520e+00  4.950859e+00   \n",
       "std                   2.064813e+00     2.074176e+00  2.068696e+00   \n",
       "min                   0.000000e+00     0.000000e+00  0.000000e+00   \n",
       "25%                   3.000000e+00     3.000000e+00  4.000000e+00   \n",
       "50%                   5.000000e+00     5.000000e+00  5.000000e+00   \n",
       "75%                   6.000000e+00     6.000000e+00  6.000000e+00   \n",
       "max                   1.700000e+01     1.800000e+01  1.900000e+01   \n",
       "\n",
       "       InadequatePlanning  PoliticalFactors  FloodProbability  \n",
       "count        1.117957e+06      1.117957e+06      1.117957e+06  \n",
       "mean         4.940587e+00      4.939004e+00      5.044803e-01  \n",
       "std          2.081123e+00      2.090350e+00      5.102610e-02  \n",
       "min          0.000000e+00      0.000000e+00      2.850000e-01  \n",
       "25%          3.000000e+00      3.000000e+00      4.700000e-01  \n",
       "50%          5.000000e+00      5.000000e+00      5.050000e-01  \n",
       "75%          6.000000e+00      6.000000e+00      5.400000e-01  \n",
       "max          1.600000e+01      1.600000e+01      7.250000e-01  \n",
       "\n",
       "[8 rows x 21 columns]"
      ]
     },
     "execution_count": 7,
     "metadata": {},
     "output_type": "execute_result"
    }
   ],
   "source": [
    "train.describe()"
   ]
  },
  {
   "cell_type": "markdown",
   "id": "3efa754b",
   "metadata": {
    "papermill": {
     "duration": 0.007262,
     "end_time": "2024-05-10T11:17:45.091311",
     "exception": false,
     "start_time": "2024-05-10T11:17:45.084049",
     "status": "completed"
    },
    "tags": []
   },
   "source": [
    "## **FEATURE DISTRIBUTIONS**"
   ]
  },
  {
   "cell_type": "code",
   "execution_count": 8,
   "id": "6eb92db0",
   "metadata": {
    "execution": {
     "iopub.execute_input": "2024-05-10T11:17:45.107823Z",
     "iopub.status.busy": "2024-05-10T11:17:45.107488Z",
     "iopub.status.idle": "2024-05-10T11:17:50.254631Z",
     "shell.execute_reply": "2024-05-10T11:17:50.253516Z"
    },
    "papermill": {
     "duration": 5.159092,
     "end_time": "2024-05-10T11:17:50.257838",
     "exception": false,
     "start_time": "2024-05-10T11:17:45.098746",
     "status": "completed"
    },
    "tags": []
   },
   "outputs": [
    {
     "data": {
      "image/png": "[encoded data removed]",
      "text/plain": [
       "<Figure size 1200x1200 with 20 Axes>"
      ]
     },
     "metadata": {},
     "output_type": "display_data"
    }
   ],
   "source": [
    "initial_features = list(test.columns)\n",
    "_, axs = plt.subplots(5, 4, figsize=(12, 12))\n",
    "for col, ax in zip(initial_features, axs.ravel()):\n",
    "    vc = train[col].value_counts() / len(train)\n",
    "    ax.bar(vc.index, vc)\n",
    "    vc = test[col].value_counts() / len(train)\n",
    "    ax.bar(vc.index, vc, alpha=0.6)\n",
    "    ax.set_title(col)\n",
    "    ax.xaxis.set_major_locator(MaxNLocator(integer=True)) # only integer labels\n",
    "plt.tight_layout()\n",
    "plt.show()"
   ]
  },
  {
   "cell_type": "markdown",
   "id": "5015d35a",
   "metadata": {
    "papermill": {
     "duration": 0.009183,
     "end_time": "2024-05-10T11:17:50.276775",
     "exception": false,
     "start_time": "2024-05-10T11:17:50.267592",
     "status": "completed"
    },
    "tags": []
   },
   "source": [
    "## **TARGET DISTRIBUTION**"
   ]
  },
  {
   "cell_type": "code",
   "execution_count": 9,
   "id": "976198f9",
   "metadata": {
    "execution": {
     "iopub.execute_input": "2024-05-10T11:17:50.297711Z",
     "iopub.status.busy": "2024-05-10T11:17:50.296783Z",
     "iopub.status.idle": "2024-05-10T11:17:50.650019Z",
     "shell.execute_reply": "2024-05-10T11:17:50.648918Z"
    },
    "papermill": {
     "duration": 0.366088,
     "end_time": "2024-05-10T11:17:50.652412",
     "exception": false,
     "start_time": "2024-05-10T11:17:50.286324",
     "status": "completed"
    },
    "tags": []
   },
   "outputs": [
    {
     "data": {
      "image/png": "[encoded data removed]",
      "text/plain": [
       "<Figure size 600x200 with 1 Axes>"
      ]
     },
     "metadata": {},
     "output_type": "display_data"
    }
   ],
   "source": [
    "plt.figure(figsize=(6, 2))\n",
    "plt.hist(train.FloodProbability, bins=np.linspace(0.285, 0.725, 90), density=True)\n",
    "plt.ylabel('density')\n",
    "plt.xlabel('FloodProbability')\n",
    "plt.show()"
   ]
  },
  {
   "cell_type": "markdown",
   "id": "80c95133",
   "metadata": {
    "papermill": {
     "duration": 0.009184,
     "end_time": "2024-05-10T11:17:50.671413",
     "exception": false,
     "start_time": "2024-05-10T11:17:50.662229",
     "status": "completed"
    },
    "tags": []
   },
   "source": [
    "## **MODEL TRAINING**"
   ]
  },
  {
   "cell_type": "code",
   "execution_count": 10,
   "id": "64af1068",
   "metadata": {
    "execution": {
     "iopub.execute_input": "2024-05-10T11:17:50.692050Z",
     "iopub.status.busy": "2024-05-10T11:17:50.691393Z",
     "iopub.status.idle": "2024-05-10T11:17:51.042420Z",
     "shell.execute_reply": "2024-05-10T11:17:51.041443Z"
    },
    "papermill": {
     "duration": 0.364461,
     "end_time": "2024-05-10T11:17:51.045123",
     "exception": false,
     "start_time": "2024-05-10T11:17:50.680662",
     "status": "completed"
    },
    "tags": []
   },
   "outputs": [],
   "source": [
    "# 데이터 나누기\n",
    "X = train.drop(['FloodProbability'], axis=1)\n",
    "Y = train['FloodProbability']\n",
    "\n",
    "X_train, X_test, Y_train, Y_test = train_test_split(X, Y, test_size=0.2, random_state=42)\n",
    "\n",
    "X_val = test\n",
    "\n",
    "Y_val = sample"
   ]
  },
  {
   "cell_type": "code",
   "execution_count": 11,
   "id": "67ceb947",
   "metadata": {
    "execution": {
     "iopub.execute_input": "2024-05-10T11:17:51.066246Z",
     "iopub.status.busy": "2024-05-10T11:17:51.065874Z",
     "iopub.status.idle": "2024-05-10T11:17:51.071093Z",
     "shell.execute_reply": "2024-05-10T11:17:51.070099Z"
    },
    "papermill": {
     "duration": 0.017865,
     "end_time": "2024-05-10T11:17:51.073051",
     "exception": false,
     "start_time": "2024-05-10T11:17:51.055186",
     "status": "completed"
    },
    "tags": []
   },
   "outputs": [],
   "source": [
    "# xgb 파라미터\n",
    "xgb_params = {\n",
    "    'grow_policy': 'depthwise',\n",
    "    'n_estimators': 100,\n",
    "    'learning_rate': 0.2639887908316703,\n",
    "    'max_depth': 10,\n",
    "    'reg_lambda': 62.46661785864016,\n",
    "    'min_child_weight': 0.33652299514909034,\n",
    "    'colsample_bytree': 0.2319730052165745,\n",
    "    'objective': 'reg:squarederror',\n",
    "    'tree_method': 'hist',\n",
    "    'max_bin': 2048,\n",
    "    'gamma': 0\n",
    "}"
   ]
  },
  {
   "cell_type": "code",
   "execution_count": 12,
   "id": "e786260b",
   "metadata": {
    "execution": {
     "iopub.execute_input": "2024-05-10T11:17:51.093730Z",
     "iopub.status.busy": "2024-05-10T11:17:51.093386Z",
     "iopub.status.idle": "2024-05-10T11:17:51.102124Z",
     "shell.execute_reply": "2024-05-10T11:17:51.101142Z"
    },
    "papermill": {
     "duration": 0.021292,
     "end_time": "2024-05-10T11:17:51.104105",
     "exception": false,
     "start_time": "2024-05-10T11:17:51.082813",
     "status": "completed"
    },
    "tags": []
   },
   "outputs": [],
   "source": [
    "# 파이프라인 정의\n",
    "xgb_pipeline = Pipeline([\n",
    "    ('scaler', StandardScaler()),\n",
    "    ('xgb', XGBRegressor(**xgb_params))\n",
    "])\n",
    "\n",
    "lgbm_pipeline = Pipeline([\n",
    "    ('scaler', StandardScaler()), \n",
    "    ('lgbm', LGBMRegressor(verbose=-1, random_state=42))\n",
    "])\n",
    "\n",
    "cb_pipeline = Pipeline([\n",
    "    ('scaler', StandardScaler()),\n",
    "    ('cb', CatBoostRegressor(verbose=False, random_state=42))\n",
    "])"
   ]
  },
  {
   "cell_type": "code",
   "execution_count": 13,
   "id": "01100fc1",
   "metadata": {
    "execution": {
     "iopub.execute_input": "2024-05-10T11:17:51.125097Z",
     "iopub.status.busy": "2024-05-10T11:17:51.124763Z",
     "iopub.status.idle": "2024-05-10T11:19:38.917741Z",
     "shell.execute_reply": "2024-05-10T11:19:38.916599Z"
    },
    "papermill": {
     "duration": 107.81587,
     "end_time": "2024-05-10T11:19:38.929698",
     "exception": false,
     "start_time": "2024-05-10T11:17:51.113828",
     "status": "completed"
    },
    "tags": []
   },
   "outputs": [
    {
     "data": {
      "text/html": [
       "<style>#sk-container-id-1 {color: black;background-color: white;}#sk-container-id-1 pre{padding: 0;}#sk-container-id-1 div.sk-toggleable {background-color: white;}#sk-container-id-1 label.sk-toggleable__label {cursor: pointer;display: block;width: 100%;margin-bottom: 0;padding: 0.3em;box-sizing: border-box;text-align: center;}#sk-container-id-1 label.sk-toggleable__label-arrow:before {content: \"▸\";float: left;margin-right: 0.25em;color: #696969;}#sk-container-id-1 label.sk-toggleable__label-arrow:hover:before {color: black;}#sk-container-id-1 div.sk-estimator:hover label.sk-toggleable__label-arrow:before {color: black;}#sk-container-id-1 div.sk-toggleable__content {max-height: 0;max-width: 0;overflow: hidden;text-align: left;background-color: #f0f8ff;}#sk-container-id-1 div.sk-toggleable__content pre {margin: 0.2em;color: black;border-radius: 0.25em;background-color: #f0f8ff;}#sk-container-id-1 input.sk-toggleable__control:checked~div.sk-toggleable__content {max-height: 200px;max-width: 100%;overflow: auto;}#sk-container-id-1 input.sk-toggleable__control:checked~label.sk-toggleable__label-arrow:before {content: \"▾\";}#sk-container-id-1 div.sk-estimator input.sk-toggleable__control:checked~label.sk-toggleable__label {background-color: #d4ebff;}#sk-container-id-1 div.sk-label input.sk-toggleable__control:checked~label.sk-toggleable__label {background-color: #d4ebff;}#sk-container-id-1 input.sk-hidden--visually {border: 0;clip: rect(1px 1px 1px 1px);clip: rect(1px, 1px, 1px, 1px);height: 1px;margin: -1px;overflow: hidden;padding: 0;position: absolute;width: 1px;}#sk-container-id-1 div.sk-estimator {font-family: monospace;background-color: #f0f8ff;border: 1px dotted black;border-radius: 0.25em;box-sizing: border-box;margin-bottom: 0.5em;}#sk-container-id-1 div.sk-estimator:hover {background-color: #d4ebff;}#sk-container-id-1 div.sk-parallel-item::after {content: \"\";width: 100%;border-bottom: 1px solid gray;flex-grow: 1;}#sk-container-id-1 div.sk-label:hover label.sk-toggleable__label {background-color: #d4ebff;}#sk-container-id-1 div.sk-serial::before {content: \"\";position: absolute;border-left: 1px solid gray;box-sizing: border-box;top: 0;bottom: 0;left: 50%;z-index: 0;}#sk-container-id-1 div.sk-serial {display: flex;flex-direction: column;align-items: center;background-color: white;padding-right: 0.2em;padding-left: 0.2em;position: relative;}#sk-container-id-1 div.sk-item {position: relative;z-index: 1;}#sk-container-id-1 div.sk-parallel {display: flex;align-items: stretch;justify-content: center;background-color: white;position: relative;}#sk-container-id-1 div.sk-item::before, #sk-container-id-1 div.sk-parallel-item::before {content: \"\";position: absolute;border-left: 1px solid gray;box-sizing: border-box;top: 0;bottom: 0;left: 50%;z-index: -1;}#sk-container-id-1 div.sk-parallel-item {display: flex;flex-direction: column;z-index: 1;position: relative;background-color: white;}#sk-container-id-1 div.sk-parallel-item:first-child::after {align-self: flex-end;width: 50%;}#sk-container-id-1 div.sk-parallel-item:last-child::after {align-self: flex-start;width: 50%;}#sk-container-id-1 div.sk-parallel-item:only-child::after {width: 0;}#sk-container-id-1 div.sk-dashed-wrapped {border: 1px dashed gray;margin: 0 0.4em 0.5em 0.4em;box-sizing: border-box;padding-bottom: 0.4em;background-color: white;}#sk-container-id-1 div.sk-label label {font-family: monospace;font-weight: bold;display: inline-block;line-height: 1.2em;}#sk-container-id-1 div.sk-label-container {text-align: center;}#sk-container-id-1 div.sk-container {/* jupyter's `normalize.less` sets `[hidden] { display: none; }` but bootstrap.min.css set `[hidden] { display: none !important; }` so we also need the `!important` here to be able to override the default hidden behavior on the sphinx rendered scikit-learn.org. See: https://github.com/scikit-learn/scikit-learn/issues/21755 */display: inline-block !important;position: relative;}#sk-container-id-1 div.sk-text-repr-fallback {display: none;}</style><div id=\"sk-container-id-1\" class=\"sk-top-container\"><div class=\"sk-text-repr-fallback\"><pre>Pipeline(steps=[(&#x27;scaler&#x27;, StandardScaler()),\n",
       "                (&#x27;cb&#x27;,\n",
       "                 &lt;catboost.core.CatBoostRegressor object at 0x781d9f1c1db0&gt;)])</pre><b>In a Jupyter environment, please rerun this cell to show the HTML representation or trust the notebook. <br />On GitHub, the HTML representation is unable to render, please try loading this page with nbviewer.org.</b></div><div class=\"sk-container\" hidden><div class=\"sk-item sk-dashed-wrapped\"><div class=\"sk-label-container\"><div class=\"sk-label sk-toggleable\"><input class=\"sk-toggleable__control sk-hidden--visually\" id=\"sk-estimator-id-1\" type=\"checkbox\" ><label for=\"sk-estimator-id-1\" class=\"sk-toggleable__label sk-toggleable__label-arrow\">Pipeline</label><div class=\"sk-toggleable__content\"><pre>Pipeline(steps=[(&#x27;scaler&#x27;, StandardScaler()),\n",
       "                (&#x27;cb&#x27;,\n",
       "                 &lt;catboost.core.CatBoostRegressor object at 0x781d9f1c1db0&gt;)])</pre></div></div></div><div class=\"sk-serial\"><div class=\"sk-item\"><div class=\"sk-estimator sk-toggleable\"><input class=\"sk-toggleable__control sk-hidden--visually\" id=\"sk-estimator-id-2\" type=\"checkbox\" ><label for=\"sk-estimator-id-2\" class=\"sk-toggleable__label sk-toggleable__label-arrow\">StandardScaler</label><div class=\"sk-toggleable__content\"><pre>StandardScaler()</pre></div></div></div><div class=\"sk-item\"><div class=\"sk-estimator sk-toggleable\"><input class=\"sk-toggleable__control sk-hidden--visually\" id=\"sk-estimator-id-3\" type=\"checkbox\" ><label for=\"sk-estimator-id-3\" class=\"sk-toggleable__label sk-toggleable__label-arrow\">CatBoostRegressor</label><div class=\"sk-toggleable__content\"><pre>&lt;catboost.core.CatBoostRegressor object at 0x781d9f1c1db0&gt;</pre></div></div></div></div></div></div></div>"
      ],
      "text/plain": [
       "Pipeline(steps=[('scaler', StandardScaler()),\n",
       "                ('cb',\n",
       "                 <catboost.core.CatBoostRegressor object at 0x781d9f1c1db0>)])"
      ]
     },
     "execution_count": 13,
     "metadata": {},
     "output_type": "execute_result"
    }
   ],
   "source": [
    "# Pipe Line으로 모델 훈련\n",
    "xgb_pipeline.fit(X_train, Y_train)\n",
    "lgbm_pipeline.fit(X_train, Y_train)\n",
    "cb_pipeline.fit(X_train, Y_train)"
   ]
  },
  {
   "cell_type": "code",
   "execution_count": 14,
   "id": "ae3f8640",
   "metadata": {
    "execution": {
     "iopub.execute_input": "2024-05-10T11:19:38.950827Z",
     "iopub.status.busy": "2024-05-10T11:19:38.950004Z",
     "iopub.status.idle": "2024-05-10T11:19:42.765551Z",
     "shell.execute_reply": "2024-05-10T11:19:42.764744Z"
    },
    "papermill": {
     "duration": 3.828669,
     "end_time": "2024-05-10T11:19:42.767910",
     "exception": false,
     "start_time": "2024-05-10T11:19:38.939241",
     "status": "completed"
    },
    "tags": []
   },
   "outputs": [],
   "source": [
    "# 테스트 데이터에 대한 예측\n",
    "xgb_pred = xgb_pipeline.predict(X_test)\n",
    "lgbm_pred = lgbm_pipeline.predict(X_test)\n",
    "cb_pred = cb_pipeline.predict(X_test)"
   ]
  },
  {
   "cell_type": "markdown",
   "id": "67a429cb",
   "metadata": {
    "papermill": {
     "duration": 0.009514,
     "end_time": "2024-05-10T11:19:42.787411",
     "exception": false,
     "start_time": "2024-05-10T11:19:42.777897",
     "status": "completed"
    },
    "tags": []
   },
   "source": [
    "## **MODEL VALIDATION**"
   ]
  },
  {
   "cell_type": "code",
   "execution_count": 15,
   "id": "762ec208",
   "metadata": {
    "execution": {
     "iopub.execute_input": "2024-05-10T11:19:42.809009Z",
     "iopub.status.busy": "2024-05-10T11:19:42.808167Z",
     "iopub.status.idle": "2024-05-10T11:19:42.819608Z",
     "shell.execute_reply": "2024-05-10T11:19:42.818800Z"
    },
    "papermill": {
     "duration": 0.024453,
     "end_time": "2024-05-10T11:19:42.821750",
     "exception": false,
     "start_time": "2024-05-10T11:19:42.797297",
     "status": "completed"
    },
    "tags": []
   },
   "outputs": [],
   "source": [
    "# 성능 평가 (R² 스코어 계산)\n",
    "xgb_r2_score = r2_score(Y_test, xgb_pred)\n",
    "lgbm_r2_score = r2_score(Y_test, lgbm_pred)\n",
    "cb_r2_score = r2_score(Y_test, cb_pred)"
   ]
  },
  {
   "cell_type": "code",
   "execution_count": 16,
   "id": "51ebc48c",
   "metadata": {
    "execution": {
     "iopub.execute_input": "2024-05-10T11:19:42.843218Z",
     "iopub.status.busy": "2024-05-10T11:19:42.842573Z",
     "iopub.status.idle": "2024-05-10T11:19:42.847633Z",
     "shell.execute_reply": "2024-05-10T11:19:42.846671Z"
    },
    "papermill": {
     "duration": 0.018543,
     "end_time": "2024-05-10T11:19:42.850164",
     "exception": false,
     "start_time": "2024-05-10T11:19:42.831621",
     "status": "completed"
    },
    "tags": []
   },
   "outputs": [
    {
     "name": "stdout",
     "output_type": "stream",
     "text": [
      "XGBRegressor R² Score: 0.8384423625867583\n",
      "LightGBMRegressor R² Score: 0.7656664606302841\n",
      "CatBoostRegressor R² Score: 0.8461505641744447\n"
     ]
    }
   ],
   "source": [
    "print(\"XGBRegressor R² Score:\", xgb_r2_score)\n",
    "print(\"LightGBMRegressor R² Score:\", lgbm_r2_score)\n",
    "print(\"CatBoostRegressor R² Score:\", cb_r2_score)"
   ]
  },
  {
   "cell_type": "code",
   "execution_count": 17,
   "id": "8cf2c446",
   "metadata": {
    "execution": {
     "iopub.execute_input": "2024-05-10T11:19:42.871685Z",
     "iopub.status.busy": "2024-05-10T11:19:42.871025Z",
     "iopub.status.idle": "2024-05-10T11:19:42.876825Z",
     "shell.execute_reply": "2024-05-10T11:19:42.875823Z"
    },
    "papermill": {
     "duration": 0.018868,
     "end_time": "2024-05-10T11:19:42.878984",
     "exception": false,
     "start_time": "2024-05-10T11:19:42.860116",
     "status": "completed"
    },
    "tags": []
   },
   "outputs": [
    {
     "name": "stdout",
     "output_type": "stream",
     "text": [
      "Most R2 Score : 0.8461505641744447\n",
      "Most Great Model : CatBoostRegressor\n"
     ]
    }
   ],
   "source": [
    "model_list = ['XGBRegressor', 'LightGBMRegressor', 'CatBoostRegressor']\n",
    "score_list = [xgb_r2_score, lgbm_r2_score, cb_r2_score]\n",
    "\n",
    "print(f\"Most R2 Score : {max(score_list)}\")\n",
    "print(f\"Most Great Model : {model_list[score_list.index(max(score_list))]}\")"
   ]
  },
  {
   "cell_type": "code",
   "execution_count": 18,
   "id": "9c1037eb",
   "metadata": {
    "execution": {
     "iopub.execute_input": "2024-05-10T11:19:42.901010Z",
     "iopub.status.busy": "2024-05-10T11:19:42.900090Z",
     "iopub.status.idle": "2024-05-10T11:19:46.544169Z",
     "shell.execute_reply": "2024-05-10T11:19:46.543267Z"
    },
    "papermill": {
     "duration": 3.657383,
     "end_time": "2024-05-10T11:19:46.546371",
     "exception": false,
     "start_time": "2024-05-10T11:19:42.888988",
     "status": "completed"
    },
    "tags": []
   },
   "outputs": [
    {
     "data": {
      "text/plain": [
       "Text(0.5, 1.0, 'Probability vs. Predicted Probability for CatBoostRegressor')"
      ]
     },
     "execution_count": 18,
     "metadata": {},
     "output_type": "execute_result"
    },
    {
     "data": {
      "image/png": "[encoded data removed]",
      "text/plain": [
       "<Figure size 3000x600 with 3 Axes>"
      ]
     },
     "metadata": {},
     "output_type": "display_data"
    }
   ],
   "source": [
    "# 서브플롯 생성 및 설정\n",
    "plt.figure(figsize=(30,6))\n",
    "\n",
    "# 1st\n",
    "plt.subplot(1,3,1)\n",
    "plt.scatter(Y_test, xgb_pred)\n",
    "plt.xlabel(\"Probability\")\n",
    "plt.ylabel(\"Predicted Probability\")\n",
    "plt.title(\"Probability vs. Predicted Probability for XGBRegressor\")\n",
    "\n",
    "# 2nd\n",
    "plt.subplot(1,3,2)\n",
    "plt.scatter(Y_test, lgbm_pred)\n",
    "plt.xlabel(\"Probability\")\n",
    "plt.ylabel(\"Predicted Probability\")\n",
    "plt.title(\"Probability vs. Predicted Probability for LightGBMRegressor\")\n",
    "\n",
    "# 3rd\n",
    "plt.subplot(1,3,3)\n",
    "plt.scatter(Y_test, cb_pred)\n",
    "plt.xlabel(\"Probability\")\n",
    "plt.ylabel(\"Predicted Probability\")\n",
    "plt.title(\"Probability vs. Predicted Probability for CatBoostRegressor\")"
   ]
  },
  {
   "cell_type": "markdown",
   "id": "e68150e5",
   "metadata": {
    "papermill": {
     "duration": 0.011953,
     "end_time": "2024-05-10T11:19:46.570139",
     "exception": false,
     "start_time": "2024-05-10T11:19:46.558186",
     "status": "completed"
    },
    "tags": []
   },
   "source": [
    "## **SUBMISSION**"
   ]
  },
  {
   "cell_type": "code",
   "execution_count": 19,
   "id": "15c8c4f6",
   "metadata": {
    "execution": {
     "iopub.execute_input": "2024-05-10T11:19:46.595400Z",
     "iopub.status.busy": "2024-05-10T11:19:46.594577Z",
     "iopub.status.idle": "2024-05-10T11:19:47.583777Z",
     "shell.execute_reply": "2024-05-10T11:19:47.582869Z"
    },
    "papermill": {
     "duration": 1.004482,
     "end_time": "2024-05-10T11:19:47.586191",
     "exception": false,
     "start_time": "2024-05-10T11:19:46.581709",
     "status": "completed"
    },
    "tags": []
   },
   "outputs": [],
   "source": [
    "sel_model = model_list[score_list.index(max(score_list))]\n",
    "\n",
    "if sel_model == 'XGBRegressor':\n",
    "    Y_sub = xgb_pipeline.predict(X_val)\n",
    "    \n",
    "elif sel_model == 'LightGBMRegressor':\n",
    "    Y_sub = lgbm_pipeline.predict(X_val)\n",
    "    \n",
    "elif sel_model == 'CatBoostRegressor':\n",
    "    Y_sub = cb_pipeline.predict(X_val)\n"
   ]
  },
  {
   "cell_type": "code",
   "execution_count": 20,
   "id": "1f7a2b34",
   "metadata": {
    "execution": {
     "iopub.execute_input": "2024-05-10T11:19:47.613554Z",
     "iopub.status.busy": "2024-05-10T11:19:47.612973Z",
     "iopub.status.idle": "2024-05-10T11:19:49.201062Z",
     "shell.execute_reply": "2024-05-10T11:19:49.200166Z"
    },
    "papermill": {
     "duration": 1.604397,
     "end_time": "2024-05-10T11:19:49.203364",
     "exception": false,
     "start_time": "2024-05-10T11:19:47.598967",
     "status": "completed"
    },
    "tags": []
   },
   "outputs": [],
   "source": [
    "pred_df = pd.DataFrame({'id':test.index, 'FloodProbability':Y_sub})\n",
    "\n",
    "# Save predictions to CSV\n",
    "pred_df.to_csv('predictions.csv', index=False)"
   ]
  },
  {
   "cell_type": "code",
   "execution_count": 21,
   "id": "c503e0db",
   "metadata": {
    "execution": {
     "iopub.execute_input": "2024-05-10T11:19:49.229384Z",
     "iopub.status.busy": "2024-05-10T11:19:49.228817Z",
     "iopub.status.idle": "2024-05-10T11:19:49.237959Z",
     "shell.execute_reply": "2024-05-10T11:19:49.237283Z"
    },
    "papermill": {
     "duration": 0.024116,
     "end_time": "2024-05-10T11:19:49.239796",
     "exception": false,
     "start_time": "2024-05-10T11:19:49.215680",
     "status": "completed"
    },
    "tags": []
   },
   "outputs": [
    {
     "data": {
      "text/html": [
       "<div>\n",
       "<style scoped>\n",
       "    .dataframe tbody tr th:only-of-type {\n",
       "        vertical-align: middle;\n",
       "    }\n",
       "\n",
       "    .dataframe tbody tr th {\n",
       "        vertical-align: top;\n",
       "    }\n",
       "\n",
       "    .dataframe thead th {\n",
       "        text-align: right;\n",
       "    }\n",
       "</style>\n",
       "<table border=\"1\" class=\"dataframe\">\n",
       "  <thead>\n",
       "    <tr style=\"text-align: right;\">\n",
       "      <th></th>\n",
       "      <th>id</th>\n",
       "      <th>FloodProbability</th>\n",
       "    </tr>\n",
       "  </thead>\n",
       "  <tbody>\n",
       "    <tr>\n",
       "      <th>0</th>\n",
       "      <td>1117957</td>\n",
       "      <td>0.574311</td>\n",
       "    </tr>\n",
       "    <tr>\n",
       "      <th>1</th>\n",
       "      <td>1117958</td>\n",
       "      <td>0.456400</td>\n",
       "    </tr>\n",
       "    <tr>\n",
       "      <th>2</th>\n",
       "      <td>1117959</td>\n",
       "      <td>0.454659</td>\n",
       "    </tr>\n",
       "    <tr>\n",
       "      <th>3</th>\n",
       "      <td>1117960</td>\n",
       "      <td>0.466799</td>\n",
       "    </tr>\n",
       "    <tr>\n",
       "      <th>4</th>\n",
       "      <td>1117961</td>\n",
       "      <td>0.465791</td>\n",
       "    </tr>\n",
       "    <tr>\n",
       "      <th>...</th>\n",
       "      <td>...</td>\n",
       "      <td>...</td>\n",
       "    </tr>\n",
       "    <tr>\n",
       "      <th>745300</th>\n",
       "      <td>1863257</td>\n",
       "      <td>0.476643</td>\n",
       "    </tr>\n",
       "    <tr>\n",
       "      <th>745301</th>\n",
       "      <td>1863258</td>\n",
       "      <td>0.451503</td>\n",
       "    </tr>\n",
       "    <tr>\n",
       "      <th>745302</th>\n",
       "      <td>1863259</td>\n",
       "      <td>0.626630</td>\n",
       "    </tr>\n",
       "    <tr>\n",
       "      <th>745303</th>\n",
       "      <td>1863260</td>\n",
       "      <td>0.551915</td>\n",
       "    </tr>\n",
       "    <tr>\n",
       "      <th>745304</th>\n",
       "      <td>1863261</td>\n",
       "      <td>0.511879</td>\n",
       "    </tr>\n",
       "  </tbody>\n",
       "</table>\n",
       "<p>745305 rows × 2 columns</p>\n",
       "</div>"
      ],
      "text/plain": [
       "             id  FloodProbability\n",
       "0       1117957          0.574311\n",
       "1       1117958          0.456400\n",
       "2       1117959          0.454659\n",
       "3       1117960          0.466799\n",
       "4       1117961          0.465791\n",
       "...         ...               ...\n",
       "745300  1863257          0.476643\n",
       "745301  1863258          0.451503\n",
       "745302  1863259          0.626630\n",
       "745303  1863260          0.551915\n",
       "745304  1863261          0.511879\n",
       "\n",
       "[745305 rows x 2 columns]"
      ]
     },
     "execution_count": 21,
     "metadata": {},
     "output_type": "execute_result"
    }
   ],
   "source": [
    "pred_df"
   ]
  },
  {
   "cell_type": "code",
   "execution_count": null,
   "id": "cdcd9581",
   "metadata": {
    "papermill": {
     "duration": 0.012088,
     "end_time": "2024-05-10T11:19:49.264428",
     "exception": false,
     "start_time": "2024-05-10T11:19:49.252340",
     "status": "completed"
    },
    "tags": []
   },
   "outputs": [],
   "source": []
  }
 ],
 "metadata": {
  "kaggle": {
   "accelerator": "none",
   "dataSources": [
    {
     "databundleVersionId": 8121328,
     "sourceId": 73278,
     "sourceType": "competition"
    }
   ],
   "dockerImageVersionId": 30698,
   "isGpuEnabled": false,
   "isInternetEnabled": true,
   "language": "python",
   "sourceType": "notebook"
  },
  "kernelspec": {
   "display_name": "Python 3",
   "language": "python",
   "name": "python3"
  },
  "language_info": {
   "codemirror_mode": {
    "name": "ipython",
    "version": 3
   },
   "file_extension": ".py",
   "mimetype": "text/x-python",
   "name": "python",
   "nbconvert_exporter": "python",
   "pygments_lexer": "ipython3",
   "version": "3.10.13"
  },
  "papermill": {
   "default_parameters": {},
   "duration": 134.846418,
   "end_time": "2024-05-10T11:19:49.996793",
   "environment_variables": {},
   "exception": null,
   "input_path": "__notebook__.ipynb",
   "output_path": "__notebook__.ipynb",
   "parameters": {},
   "start_time": "2024-05-10T11:17:35.150375",
   "version": "2.5.0"
  }
 },
 "nbformat": 4,
 "nbformat_minor": 5
}
